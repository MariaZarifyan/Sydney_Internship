{
 "cells": [
  {
   "cell_type": "markdown",
   "metadata": {},
   "source": [
    "A. Order - the order of presentation of a stimulus (here the stimuli are sorted by the order of presentation, not alphabetically)"
    "B. ID - ID of a participant"
    "C. Stimulus"
    "D. STD_RESP1 - Standardized response"
    "E. real_Stim - real perseveration in relation to the target word"
    "F. Lag1 - lag of the real perseveration in relation to the target word (we'll probably need better names for the columns with lags)"
   ]
  },
  {
   "cell_type": "code",
   "execution_count": 1,
   "metadata": {},
   "outputs": [],
   "source": [
    "import pandas as pd \n",
    "import numpy as np\n",
    "import glob"
   ]
  },
  {
   "cell_type": "code",
   "execution_count": 2,
   "metadata": {},
   "outputs": [],
   "source": [
    "data = pd.read_excel(\"24_06_20_Speeded_naming_results.xlsx\")"
   ]
  },
  {
   "cell_type": "code",
   "execution_count": 3,
   "metadata": {},
   "outputs": [
    {
     "data": {
      "text/html": [
       "<div>\n",
       "<style scoped>\n",
       "    .dataframe tbody tr th:only-of-type {\n",
       "        vertical-align: middle;\n",
       "    }\n",
       "\n",
       "    .dataframe tbody tr th {\n",
       "        vertical-align: top;\n",
       "    }\n",
       "\n",
       "    .dataframe thead th {\n",
       "        text-align: right;\n",
       "    }\n",
       "</style>\n",
       "<table border=\"1\" class=\"dataframe\">\n",
       "  <thead>\n",
       "    <tr style=\"text-align: right;\">\n",
       "      <th></th>\n",
       "      <th>ID</th>\n",
       "      <th>Order</th>\n",
       "      <th>Stimulus</th>\n",
       "      <th>STD_RESP1</th>\n",
       "    </tr>\n",
       "  </thead>\n",
       "  <tbody>\n",
       "    <tr>\n",
       "      <th>24349</th>\n",
       "      <td>183</td>\n",
       "      <td>69</td>\n",
       "      <td>wand</td>\n",
       "      <td>wand</td>\n",
       "    </tr>\n",
       "    <tr>\n",
       "      <th>24350</th>\n",
       "      <td>183</td>\n",
       "      <td>218</td>\n",
       "      <td>whale</td>\n",
       "      <td>dolphin</td>\n",
       "    </tr>\n",
       "    <tr>\n",
       "      <th>24351</th>\n",
       "      <td>183</td>\n",
       "      <td>266</td>\n",
       "      <td>whip</td>\n",
       "      <td>whip</td>\n",
       "    </tr>\n",
       "    <tr>\n",
       "      <th>24352</th>\n",
       "      <td>183</td>\n",
       "      <td>269</td>\n",
       "      <td>whistle</td>\n",
       "      <td>whistle</td>\n",
       "    </tr>\n",
       "    <tr>\n",
       "      <th>24353</th>\n",
       "      <td>183</td>\n",
       "      <td>122</td>\n",
       "      <td>zebra</td>\n",
       "      <td>zebra</td>\n",
       "    </tr>\n",
       "  </tbody>\n",
       "</table>\n",
       "</div>"
      ],
      "text/plain": [
       "        ID  Order Stimulus STD_RESP1\n",
       "24349  183     69     wand      wand\n",
       "24350  183    218    whale   dolphin\n",
       "24351  183    266     whip      whip\n",
       "24352  183    269  whistle   whistle\n",
       "24353  183    122    zebra     zebra"
      ]
     },
     "execution_count": 3,
     "metadata": {},
     "output_type": "execute_result"
    }
   ],
   "source": [
    "df = data[['ID', \"Order\",\"Stimulus\", \"STD_RESP1\"]]\n",
    "df = df.drop([24354,24355,24356], axis=0)\n",
    "df[\"ID\"]=df.ID.astype('int64')\n",
    "df[\"Order\"]=df.Order.astype('int64')\n",
    "df.tail()"
   ]
  },
  {
   "cell_type": "code",
   "execution_count": 14,
   "metadata": {},
   "outputs": [],
   "source": [
    "df['STD_RESP1'] = df['STD_RESP1'].str.strip()\n",
    "df['Stimulus'] = df['Stimulus'].str.strip()"
   ]
  },
  {
   "cell_type": "code",
   "execution_count": 15,
   "metadata": {},
   "outputs": [],
   "source": [
    "IDs = [x for x in list(range(101, 184)) if x != 120] #list with all subject IDs. 120 was excluded "
   ]
  },
  {
   "cell_type": "code",
   "execution_count": 16,
   "metadata": {},
   "outputs": [],
   "source": [
    "def sort_participant(num):\n",
    "    participant = df[df[\"ID\"] == num] #stores the data of each person \n",
    "    return participant.sort_values(by=['Order'])"
   ]
  },
  {
   "cell_type": "code",
   "execution_count": 29,
   "metadata": {},
   "outputs": [],
   "source": [
    "def Perseverations(num):\n",
    "    #### Col 1-2: Real perseverations in relation to STIMULUS\n",
    "    part = sort_participant(num)\n",
    "    stimuli = pd.Series(part.Order.values,index=part.Stimulus).to_dict() \n",
    "    # dictionary where each key=stimulus, value=its' order of presentation\n",
    "    part.set_index('Order', inplace=True) # now order of presentation is index\n",
    "    \n",
    "    pers_stim = []\n",
    "    pers_resp = []\n",
    "    col1 = []\n",
    "    \n",
    "    pers_stim.append(part.Stimulus[1])\n",
    "    pers_resp.append(part.STD_RESP1[1])\n",
    "    col1.append(0)\n",
    "    for stim, resp in zip(part.Stimulus[1:], part.STD_RESP1[1:]):\n",
    "    #print(stim, resp)\n",
    "        if resp not in pers_stim:\n",
    "            col1.append(0)\n",
    "        if resp in pers_stim:\n",
    "            col1.append(1)\n",
    "        pers_stim.append(stim)\n",
    "        \n",
    "    part[\"real_Stim\"] = col1\n",
    "    \n",
    "    Lag1 = []\n",
    "    part = part.reset_index()\n",
    "    for ind in part.index:\n",
    "        if part['real_Stim'][ind] == 0:\n",
    "            Lag1.append(np.NaN)\n",
    "        else:\n",
    "            if part['STD_RESP1'][ind] in stimuli:\n",
    "                diff = part['Order'][ind] - stimuli[part['STD_RESP1'][ind]]\n",
    "                Lag1.append(diff)\n",
    "                \n",
    "    part[\"Lag1\"] = Lag1\n",
    "    \n",
    "    ###Col 3-4: Real perseverations in relation to RESPONSE\n",
    "    prev_resp = []\n",
    "    col3 = []\n",
    "    prev_resp.append(part.STD_RESP1[0])\n",
    "    col3.append(0)\n",
    "    \n",
    "    for resp in part.STD_RESP1[1:]:\n",
    "        #print(stim, resp)\n",
    "        if resp not in prev_resp:\n",
    "            col3.append(0)\n",
    "        #if resp in prev_stim:\n",
    "        else:\n",
    "            col3.append(1)\n",
    "        prev_resp.append(resp)\n",
    "\n",
    "    part[\"real_Resp\"] = col3\n",
    "    part[\"Lag2\"] = part.groupby(['STD_RESP1'])['Order'].diff() #.fillna(\"NA\")\n",
    "    \n",
    "    rev_part = part[::-1]\n",
    "    pers_stimf = []\n",
    "    pers_respf = []\n",
    "    col5 = []\n",
    "    \n",
    "    pers_stimf.append(rev_part.Stimulus[len(rev_part.Stimulus)-1])\n",
    "    pers_respf.append(rev_part.STD_RESP1[len(rev_part.STD_RESP1)-1])\n",
    "    col5.append(0)\n",
    "    \n",
    "    for stim, resp in zip(rev_part.Stimulus[1:], rev_part.STD_RESP1[1:]):\n",
    "        #print(stim, resp)\n",
    "        if resp not in pers_stimf:\n",
    "            col5.append(0)\n",
    "        if resp in pers_stimf:\n",
    "            col5.append(1)\n",
    "        pers_stimf.append(stim)\n",
    "        \n",
    "    rev_part[\"false_Stim\"] = col5\n",
    "    \n",
    "    Lag3 = []\n",
    "    stimuli = pd.Series(rev_part.Order.values,index=rev_part.Stimulus).to_dict()\n",
    "    for ind in rev_part.index:\n",
    "        if rev_part['false_Stim'][ind] == 0:\n",
    "            Lag3.append(np.NaN)\n",
    "        else:\n",
    "            if rev_part['STD_RESP1'][ind] in stimuli:\n",
    "                diff = rev_part['Order'][ind] - stimuli[rev_part['STD_RESP1'][ind]]\n",
    "                Lag3.append(diff)\n",
    "    \n",
    "    rev_part[\"Lag3\"] = Lag3\n",
    "    \n",
    "    ## cols 7-8\n",
    "    \n",
    "    prev_respf = []\n",
    "    col6 = []\n",
    "    prev_respf.append(rev_part.STD_RESP1[len(rev_part.STD_RESP1)-1])\n",
    "    col6.append(0)\n",
    "\n",
    "    for resp in rev_part.STD_RESP1[1:]:\n",
    "        #print(stim, resp)\n",
    "        if resp not in prev_respf:\n",
    "            col6.append(0)\n",
    "        #if resp in prev_stim:\n",
    "        else:\n",
    "            col6.append(1)\n",
    "        prev_respf.append(resp)\n",
    "    #df[\"real_Stim\"] = col1\n",
    "    #df[\"real_Resp\"] = col3\n",
    "    \n",
    "    rev_part[\"false_Resp\"] = col6\n",
    "    \n",
    "    rev_part[\"Lag4\"] = rev_part.groupby(['STD_RESP1'])['Order'].diff()\n",
    "    \n",
    "    return rev_part[::-1]\n",
    "    \n",
    "    "
   ]
  },
  {
   "cell_type": "code",
   "execution_count": 30,
   "metadata": {},
   "outputs": [
    {
     "name": "stderr",
     "output_type": "stream",
     "text": [
      "C:\\Users\\Omistaja\\Anaconda3\\lib\\site-packages\\ipykernel_launcher.py:72: SettingWithCopyWarning: \n",
      "A value is trying to be set on a copy of a slice from a DataFrame.\n",
      "Try using .loc[row_indexer,col_indexer] = value instead\n",
      "\n",
      "See the caveats in the documentation: http://pandas.pydata.org/pandas-docs/stable/indexing.html#indexing-view-versus-copy\n",
      "C:\\Users\\Omistaja\\Anaconda3\\lib\\site-packages\\ipykernel_launcher.py:84: SettingWithCopyWarning: \n",
      "A value is trying to be set on a copy of a slice from a DataFrame.\n",
      "Try using .loc[row_indexer,col_indexer] = value instead\n",
      "\n",
      "See the caveats in the documentation: http://pandas.pydata.org/pandas-docs/stable/indexing.html#indexing-view-versus-copy\n",
      "C:\\Users\\Omistaja\\Anaconda3\\lib\\site-packages\\ipykernel_launcher.py:104: SettingWithCopyWarning: \n",
      "A value is trying to be set on a copy of a slice from a DataFrame.\n",
      "Try using .loc[row_indexer,col_indexer] = value instead\n",
      "\n",
      "See the caveats in the documentation: http://pandas.pydata.org/pandas-docs/stable/indexing.html#indexing-view-versus-copy\n",
      "C:\\Users\\Omistaja\\Anaconda3\\lib\\site-packages\\ipykernel_launcher.py:106: SettingWithCopyWarning: \n",
      "A value is trying to be set on a copy of a slice from a DataFrame.\n",
      "Try using .loc[row_indexer,col_indexer] = value instead\n",
      "\n",
      "See the caveats in the documentation: http://pandas.pydata.org/pandas-docs/stable/indexing.html#indexing-view-versus-copy\n"
     ]
    }
   ],
   "source": [
    "for ID in IDs:\n",
    "    part = Perseverations(ID)\n",
    "    part.to_excel(\"test\" + str(ID) + \".xlsx\")"
   ]
  },
  {
   "cell_type": "code",
   "execution_count": 32,
   "metadata": {},
   "outputs": [],
   "source": [
    "all_data = pd.DataFrame()\n",
    "for f in glob.glob(\"D:/EMCL_Internship/Perseverations_small_29_06/test1*.xlsx\"):\n",
    "    df = pd.read_excel(f)\n",
    "    all_data = all_data.append(df,ignore_index=True)\n",
    "    \n",
    "all_data.to_excel(\"06_29_Perseverations_fixed_bugs.xlsx\")"
   ]
  },
  {
   "cell_type": "code",
   "execution_count": 34,
   "metadata": {},
   "outputs": [
    {
     "data": {
      "text/html": [
       "<div>\n",
       "<style scoped>\n",
       "    .dataframe tbody tr th:only-of-type {\n",
       "        vertical-align: middle;\n",
       "    }\n",
       "\n",
       "    .dataframe tbody tr th {\n",
       "        vertical-align: top;\n",
       "    }\n",
       "\n",
       "    .dataframe thead th {\n",
       "        text-align: right;\n",
       "    }\n",
       "</style>\n",
       "<table border=\"1\" class=\"dataframe\">\n",
       "  <thead>\n",
       "    <tr style=\"text-align: right;\">\n",
       "      <th></th>\n",
       "      <th>Order</th>\n",
       "      <th>ID</th>\n",
       "      <th>Stimulus</th>\n",
       "      <th>STD_RESP1</th>\n",
       "      <th>real_Stim</th>\n",
       "      <th>Lag1</th>\n",
       "      <th>real_Resp</th>\n",
       "      <th>Lag2</th>\n",
       "      <th>false_Stim</th>\n",
       "      <th>Lag3</th>\n",
       "      <th>false_Resp</th>\n",
       "      <th>Lag4</th>\n",
       "    </tr>\n",
       "  </thead>\n",
       "  <tbody>\n",
       "    <tr>\n",
       "      <th>0</th>\n",
       "      <td>1</td>\n",
       "      <td>101</td>\n",
       "      <td>sword</td>\n",
       "      <td>sword</td>\n",
       "      <td>0</td>\n",
       "      <td>NaN</td>\n",
       "      <td>0</td>\n",
       "      <td>NaN</td>\n",
       "      <td>0</td>\n",
       "      <td>NaN</td>\n",
       "      <td>0</td>\n",
       "      <td>NaN</td>\n",
       "    </tr>\n",
       "    <tr>\n",
       "      <th>1</th>\n",
       "      <td>2</td>\n",
       "      <td>101</td>\n",
       "      <td>microscope</td>\n",
       "      <td>NaN</td>\n",
       "      <td>0</td>\n",
       "      <td>NaN</td>\n",
       "      <td>0</td>\n",
       "      <td>NaN</td>\n",
       "      <td>0</td>\n",
       "      <td>NaN</td>\n",
       "      <td>0</td>\n",
       "      <td>NaN</td>\n",
       "    </tr>\n",
       "    <tr>\n",
       "      <th>2</th>\n",
       "      <td>3</td>\n",
       "      <td>101</td>\n",
       "      <td>boots</td>\n",
       "      <td>boots</td>\n",
       "      <td>0</td>\n",
       "      <td>NaN</td>\n",
       "      <td>0</td>\n",
       "      <td>NaN</td>\n",
       "      <td>0</td>\n",
       "      <td>NaN</td>\n",
       "      <td>1</td>\n",
       "      <td>-285.0</td>\n",
       "    </tr>\n",
       "    <tr>\n",
       "      <th>3</th>\n",
       "      <td>4</td>\n",
       "      <td>101</td>\n",
       "      <td>elephant</td>\n",
       "      <td>elephant</td>\n",
       "      <td>0</td>\n",
       "      <td>NaN</td>\n",
       "      <td>0</td>\n",
       "      <td>NaN</td>\n",
       "      <td>0</td>\n",
       "      <td>NaN</td>\n",
       "      <td>0</td>\n",
       "      <td>NaN</td>\n",
       "    </tr>\n",
       "    <tr>\n",
       "      <th>4</th>\n",
       "      <td>5</td>\n",
       "      <td>101</td>\n",
       "      <td>bat_(baseball)</td>\n",
       "      <td>bat_(baseball)</td>\n",
       "      <td>0</td>\n",
       "      <td>NaN</td>\n",
       "      <td>0</td>\n",
       "      <td>NaN</td>\n",
       "      <td>0</td>\n",
       "      <td>NaN</td>\n",
       "      <td>0</td>\n",
       "      <td>NaN</td>\n",
       "    </tr>\n",
       "  </tbody>\n",
       "</table>\n",
       "</div>"
      ],
      "text/plain": [
       "   Order   ID        Stimulus       STD_RESP1  real_Stim  Lag1  real_Resp  \\\n",
       "0      1  101           sword           sword          0   NaN          0   \n",
       "1      2  101      microscope             NaN          0   NaN          0   \n",
       "2      3  101           boots           boots          0   NaN          0   \n",
       "3      4  101        elephant        elephant          0   NaN          0   \n",
       "4      5  101  bat_(baseball)  bat_(baseball)          0   NaN          0   \n",
       "\n",
       "   Lag2  false_Stim  Lag3  false_Resp   Lag4  \n",
       "0   NaN           0   NaN           0    NaN  \n",
       "1   NaN           0   NaN           0    NaN  \n",
       "2   NaN           0   NaN           1 -285.0  \n",
       "3   NaN           0   NaN           0    NaN  \n",
       "4   NaN           0   NaN           0    NaN  "
      ]
     },
     "execution_count": 34,
     "metadata": {},
     "output_type": "execute_result"
    }
   ],
   "source": [
    "#### checking what we saved \n",
    "\n",
    "correct = pd.read_excel(\"06_29_Perseverations_fixed_bugs.xlsx\") \n",
    "wrong = pd.read_excel(\"06_24_20_Perseverations_full.xlsx\")\n",
    "correct.head()"
   ]
  },
  {
   "cell_type": "code",
   "execution_count": 44,
   "metadata": {},
   "outputs": [
    {
     "data": {
      "text/plain": [
       "24354"
      ]
     },
     "execution_count": 44,
     "metadata": {},
     "output_type": "execute_result"
    }
   ],
   "source": [
    "correct[\"real_Stim\"].count()"
   ]
  },
  {
   "cell_type": "code",
   "execution_count": 45,
   "metadata": {},
   "outputs": [
    {
     "data": {
      "text/plain": [
       "24354"
      ]
     },
     "execution_count": 45,
     "metadata": {},
     "output_type": "execute_result"
    }
   ],
   "source": [
    "wrong[\"real_Stim\"].count()"
   ]
  },
  {
   "cell_type": "code",
   "execution_count": null,
   "metadata": {},
   "outputs": [],
   "source": []
  }
 ],
 "metadata": {
  "kernelspec": {
   "display_name": "Python 3",
   "language": "python",
   "name": "python3"
  },
  "language_info": {
   "codemirror_mode": {
    "name": "ipython",
    "version": 3
   },
   "file_extension": ".py",
   "mimetype": "text/x-python",
   "name": "python",
   "nbconvert_exporter": "python",
   "pygments_lexer": "ipython3",
   "version": "3.6.5"
  }
 },
 "nbformat": 4,
 "nbformat_minor": 2
}
