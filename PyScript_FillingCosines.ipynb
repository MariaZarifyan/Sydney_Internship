{
 "cells": [
  {
   "cell_type": "code",
   "execution_count": 1,
   "metadata": {},
   "outputs": [],
   "source": [
    "import pandas as pd\n",
    "import numpy as np"
   ]
  },
  {
   "cell_type": "code",
   "execution_count": 2,
   "metadata": {},
   "outputs": [],
   "source": [
    "ourcos = pd.read_excel(\"OurCosines1.xlsx\")"
   ]
  },
  {
   "cell_type": "code",
   "execution_count": 25,
   "metadata": {},
   "outputs": [],
   "source": [
    "ourcos = ourcos.set_index(\"CONCEPT\")"
   ]
  },
  {
   "cell_type": "code",
   "execution_count": 7,
   "metadata": {},
   "outputs": [],
   "source": [
    "data = pd.read_excel(\"07_20_20_Speeded_naming_results_corrected.xlsx\") # our data file"
   ]
  },
  {
   "cell_type": "code",
   "execution_count": 8,
   "metadata": {},
   "outputs": [],
   "source": [
    "data['Stimulus'] = data['Stimulus'].str.strip()\n",
    "data['STD_RESP1'] = data['STD_RESP1'].str.strip()"
   ]
  },
  {
   "cell_type": "code",
   "execution_count": 11,
   "metadata": {},
   "outputs": [],
   "source": [
    "data = data.drop([24354,24355,24356], axis=0)"
   ]
  },
  {
   "cell_type": "code",
   "execution_count": 13,
   "metadata": {},
   "outputs": [],
   "source": [
    "cosMeans = pd.read_excel(\"NEWCOSINEOUTPUT_MEANS.xlsx\")"
   ]
  },
  {
   "cell_type": "code",
   "execution_count": 18,
   "metadata": {},
   "outputs": [],
   "source": [
    "colMeans = cosMeans.drop([\"Stimulus\"], axis = 1)\n",
    "data[\"MeanCosNeigh\"] = pd.concat([colMeans]*82, ignore_index=True)"
   ]
  },
  {
   "cell_type": "code",
   "execution_count": 20,
   "metadata": {},
   "outputs": [],
   "source": [
    "data.to_excel(\"07_20_20_Speeded_naming_WITH_MEANS_COLUMN.xlsx\")"
   ]
  },
  {
   "cell_type": "code",
   "execution_count": 27,
   "metadata": {},
   "outputs": [
    {
     "data": {
      "text/plain": [
       "Index(['accordion', 'airplane', 'alligator', 'ambulance', 'anchor', 'ant',\n",
       "       'apartment', 'apple', 'apron', 'armour',\n",
       "       ...\n",
       "       'whip', 'whistle', 'willow', 'woodpecker', 'worm', 'wrench', 'yacht',\n",
       "       'yam', 'zebra', 'zucchini'],\n",
       "      dtype='object', length=541)"
      ]
     },
     "execution_count": 27,
     "metadata": {},
     "output_type": "execute_result"
    }
   ],
   "source": [
    "ourcos.columns"
   ]
  },
  {
   "cell_type": "code",
   "execution_count": 28,
   "metadata": {},
   "outputs": [],
   "source": [
    "resp_cos = []\n",
    "for stim, resp in zip(data.Stimulus, data.STD_RESP1):\n",
    "    if resp in ourcos.columns:\n",
    "        resp_cos.append(ourcos.at[stim,resp])\n",
    "    else:\n",
    "        resp_cos.append(np.NaN)"
   ]
  },
  {
   "cell_type": "code",
   "execution_count": 31,
   "metadata": {},
   "outputs": [],
   "source": [
    "data[\"TargetRespCos\"] = resp_cos"
   ]
  },
  {
   "cell_type": "code",
   "execution_count": 32,
   "metadata": {},
   "outputs": [],
   "source": [
    "data.to_excel(\"07_20_20_Speeded_naming_WITH_2_COLS.xlsx\")"
   ]
  },
  {
   "cell_type": "code",
   "execution_count": 33,
   "metadata": {},
   "outputs": [],
   "source": [
    "pers = pd.read_excel(\"06_29_Perseverations_fixed_bugs.xlsx\")"
   ]
  },
  {
   "cell_type": "code",
   "execution_count": 38,
   "metadata": {},
   "outputs": [],
   "source": [
    "# we downloaded our data, manually modified it, and then loading it again here:\n",
    "final = pd.read_excel(\"07_20_20_Speeded_naming_WITH_2_COLS.xlsx\")"
   ]
  },
  {
   "cell_type": "code",
   "execution_count": 51,
   "metadata": {},
   "outputs": [
    {
     "data": {
      "text/html": [
       "<div>\n",
       "<style scoped>\n",
       "    .dataframe tbody tr th:only-of-type {\n",
       "        vertical-align: middle;\n",
       "    }\n",
       "\n",
       "    .dataframe tbody tr th {\n",
       "        vertical-align: top;\n",
       "    }\n",
       "\n",
       "    .dataframe thead th {\n",
       "        text-align: right;\n",
       "    }\n",
       "</style>\n",
       "<table border=\"1\" class=\"dataframe\">\n",
       "  <thead>\n",
       "    <tr style=\"text-align: right;\">\n",
       "      <th></th>\n",
       "      <th>Order</th>\n",
       "      <th>ID</th>\n",
       "      <th>Stimulus</th>\n",
       "      <th>STD_RESP1</th>\n",
       "      <th>real_Stim</th>\n",
       "      <th>Lag1</th>\n",
       "      <th>real_Resp</th>\n",
       "      <th>Lag2</th>\n",
       "      <th>false_Stim</th>\n",
       "      <th>Lag3</th>\n",
       "      <th>false_Resp</th>\n",
       "      <th>Lag4</th>\n",
       "    </tr>\n",
       "    <tr>\n",
       "      <th>ItemID</th>\n",
       "      <th></th>\n",
       "      <th></th>\n",
       "      <th></th>\n",
       "      <th></th>\n",
       "      <th></th>\n",
       "      <th></th>\n",
       "      <th></th>\n",
       "      <th></th>\n",
       "      <th></th>\n",
       "      <th></th>\n",
       "      <th></th>\n",
       "      <th></th>\n",
       "    </tr>\n",
       "  </thead>\n",
       "  <tbody>\n",
       "    <tr>\n",
       "      <th>183scooter</th>\n",
       "      <td>293</td>\n",
       "      <td>183</td>\n",
       "      <td>scooter</td>\n",
       "      <td>scooter</td>\n",
       "      <td>0</td>\n",
       "      <td>NaN</td>\n",
       "      <td>0</td>\n",
       "      <td>NaN</td>\n",
       "      <td>0</td>\n",
       "      <td>NaN</td>\n",
       "      <td>0</td>\n",
       "      <td>NaN</td>\n",
       "    </tr>\n",
       "    <tr>\n",
       "      <th>183cup</th>\n",
       "      <td>294</td>\n",
       "      <td>183</td>\n",
       "      <td>cup</td>\n",
       "      <td>cup</td>\n",
       "      <td>0</td>\n",
       "      <td>NaN</td>\n",
       "      <td>0</td>\n",
       "      <td>NaN</td>\n",
       "      <td>0</td>\n",
       "      <td>NaN</td>\n",
       "      <td>0</td>\n",
       "      <td>NaN</td>\n",
       "    </tr>\n",
       "    <tr>\n",
       "      <th>183celery</th>\n",
       "      <td>295</td>\n",
       "      <td>183</td>\n",
       "      <td>celery</td>\n",
       "      <td>celery</td>\n",
       "      <td>0</td>\n",
       "      <td>NaN</td>\n",
       "      <td>0</td>\n",
       "      <td>NaN</td>\n",
       "      <td>0</td>\n",
       "      <td>NaN</td>\n",
       "      <td>0</td>\n",
       "      <td>NaN</td>\n",
       "    </tr>\n",
       "    <tr>\n",
       "      <th>183violin</th>\n",
       "      <td>296</td>\n",
       "      <td>183</td>\n",
       "      <td>violin</td>\n",
       "      <td>violin</td>\n",
       "      <td>0</td>\n",
       "      <td>NaN</td>\n",
       "      <td>0</td>\n",
       "      <td>NaN</td>\n",
       "      <td>0</td>\n",
       "      <td>NaN</td>\n",
       "      <td>0</td>\n",
       "      <td>NaN</td>\n",
       "    </tr>\n",
       "    <tr>\n",
       "      <th>183plate</th>\n",
       "      <td>297</td>\n",
       "      <td>183</td>\n",
       "      <td>plate</td>\n",
       "      <td>plate</td>\n",
       "      <td>0</td>\n",
       "      <td>NaN</td>\n",
       "      <td>0</td>\n",
       "      <td>NaN</td>\n",
       "      <td>0</td>\n",
       "      <td>NaN</td>\n",
       "      <td>0</td>\n",
       "      <td>NaN</td>\n",
       "    </tr>\n",
       "  </tbody>\n",
       "</table>\n",
       "</div>"
      ],
      "text/plain": [
       "            Order   ID Stimulus STD_RESP1  real_Stim  Lag1  real_Resp  Lag2  \\\n",
       "ItemID                                                                        \n",
       "183scooter    293  183  scooter   scooter          0   NaN          0   NaN   \n",
       "183cup        294  183      cup       cup          0   NaN          0   NaN   \n",
       "183celery     295  183   celery    celery          0   NaN          0   NaN   \n",
       "183violin     296  183   violin    violin          0   NaN          0   NaN   \n",
       "183plate      297  183    plate     plate          0   NaN          0   NaN   \n",
       "\n",
       "            false_Stim  Lag3  false_Resp  Lag4  \n",
       "ItemID                                          \n",
       "183scooter           0   NaN           0   NaN  \n",
       "183cup               0   NaN           0   NaN  \n",
       "183celery            0   NaN           0   NaN  \n",
       "183violin            0   NaN           0   NaN  \n",
       "183plate             0   NaN           0   NaN  "
      ]
     },
     "execution_count": 51,
     "metadata": {},
     "output_type": "execute_result"
    }
   ],
   "source": [
    "pers.tail()"
   ]
  },
  {
   "cell_type": "code",
   "execution_count": 40,
   "metadata": {},
   "outputs": [],
   "source": [
    "final[\"Item\"] = final[\"ID\"].apply(str) + final[\"Stimulus\"]"
   ]
  },
  {
   "cell_type": "code",
   "execution_count": 36,
   "metadata": {},
   "outputs": [],
   "source": [
    "pers[\"ItemID\"] = pers[\"ID\"].apply(str) + pers[\"Stimulus\"]"
   ]
  },
  {
   "cell_type": "code",
   "execution_count": 48,
   "metadata": {},
   "outputs": [],
   "source": [
    "pers = pers.set_index([\"ItemID\"])\n",
    "final = final.set_index([\"Item\"])"
   ]
  },
  {
   "cell_type": "code",
   "execution_count": 47,
   "metadata": {},
   "outputs": [
    {
     "data": {
      "text/plain": [
       "True"
      ]
     },
     "execution_count": 47,
     "metadata": {},
     "output_type": "execute_result"
    }
   ],
   "source": [
    "set(final[\"Item\"]) == set(pers[\"ItemID\"])"
   ]
  },
  {
   "cell_type": "code",
   "execution_count": 43,
   "metadata": {},
   "outputs": [
    {
     "data": {
      "text/plain": [
       "24354"
      ]
     },
     "execution_count": 43,
     "metadata": {},
     "output_type": "execute_result"
    }
   ],
   "source": [
    "len(pers[\"ItemID\"])"
   ]
  },
  {
   "cell_type": "code",
   "execution_count": 52,
   "metadata": {},
   "outputs": [],
   "source": [
    "final.insert(final.shape[1], \"real_Resp\", pers[\"real_Resp\"])"
   ]
  },
  {
   "cell_type": "code",
   "execution_count": 57,
   "metadata": {},
   "outputs": [
    {
     "data": {
      "text/plain": [
       "True"
      ]
     },
     "execution_count": 57,
     "metadata": {},
     "output_type": "execute_result"
    }
   ],
   "source": [
    "set(final[\"real_Resp\"]) == set(pers[\"real_Resp\"])"
   ]
  },
  {
   "cell_type": "code",
   "execution_count": 58,
   "metadata": {},
   "outputs": [],
   "source": [
    "final.to_excel(\"07_20_20_Speeded_naming_3columns_added.xlsx\")"
   ]
  },
  {
   "cell_type": "code",
   "execution_count": null,
   "metadata": {},
   "outputs": [],
   "source": []
  }
 ],
 "metadata": {
  "kernelspec": {
   "display_name": "Python 3",
   "language": "python",
   "name": "python3"
  },
  "language_info": {
   "codemirror_mode": {
    "name": "ipython",
    "version": 3
   },
   "file_extension": ".py",
   "mimetype": "text/x-python",
   "name": "python",
   "nbconvert_exporter": "python",
   "pygments_lexer": "ipython3",
   "version": "3.6.5"
  }
 },
 "nbformat": 4,
 "nbformat_minor": 2
}
